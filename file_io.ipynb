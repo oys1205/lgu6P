{
 "cells": [
  {
   "cell_type": "code",
   "execution_count": 3,
   "id": "77e24413-8037-4071-9382-3aacfa48b3c9",
   "metadata": {},
   "outputs": [],
   "source": [
    "c\n",
    "result.to_csv(\"./dataset/iris_misson.csv\", index=False)"
   ]
  }
 ],
 "metadata": {
  "kernelspec": {
   "display_name": "Python 3 (ipykernel)",
   "language": "python",
   "name": "python3"
  },
  "language_info": {
   "codemirror_mode": {
    "name": "ipython",
    "version": 3
   },
   "file_extension": ".py",
   "mimetype": "text/x-python",
   "name": "python",
   "nbconvert_exporter": "python",
   "pygments_lexer": "ipython3",
   "version": "3.13.2"
  }
 },
 "nbformat": 4,
 "nbformat_minor": 5
}
